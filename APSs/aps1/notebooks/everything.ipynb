{
 "cells": [
  {
   "cell_type": "markdown",
   "id": "fe3ffec3-29dc-4eef-928e-5d9cb26e2413",
   "metadata": {},
   "source": [
    "# Bank Marketing Dataset\n",
    "Predicting Term Deposit Suscriptions"
   ]
  },
  {
   "cell_type": "markdown",
   "id": "79dd2b62-9ec0-4def-9a7b-49be1fe6f1e3",
   "metadata": {},
   "source": [
    "## Importing libs"
   ]
  },
  {
   "cell_type": "code",
   "execution_count": null,
   "id": "78965303-3790-4124-bbad-57bd1b8a3be5",
   "metadata": {},
   "outputs": [],
   "source": [
    "# Data\n",
    "import pandas as pd\n",
    "\n",
    "# Export\n",
    "import pickle\n",
    "\n",
    "# Plot\n",
    "import matplotlib.pyplot as plt\n",
    "import seaborn as sns\n",
    "import missingno as msno\n",
    "\n",
    "# Modeling\n",
    "from lightgbm import LGBMClassifier\n",
    "from sklearn.metrics import classification_report, confusion_matrix\n",
    "from sklearn.model_selection import train_test_split\n",
    "from sklearn.compose import make_column_transformer\n",
    "from sklearn.preprocessing import OneHotEncoder"
   ]
  },
  {
   "cell_type": "markdown",
   "id": "9631ee53-5ef3-4982-a83e-27d89e72cf4a",
   "metadata": {},
   "source": [
    "## Loading data"
   ]
  },
  {
   "cell_type": "code",
   "execution_count": null,
   "id": "b612f493-0a50-4f9b-b933-cc0b9a6f07a2",
   "metadata": {},
   "outputs": [],
   "source": [
    "df = pd.read_csv(\"bank.csv\")\n",
    "df.sample(3)"
   ]
  },
  {
   "cell_type": "code",
   "execution_count": null,
   "id": "43844bf8-35f8-4c7c-9834-ad82cf5073d7",
   "metadata": {},
   "outputs": [],
   "source": [
    "dep_mapping = {\"yes\": 1, \"no\": 0}\n",
    "\n",
    "# Convert the column to category and map the values\n",
    "df[\"deposit\"] = df[\"deposit\"].astype(\"category\").map(dep_mapping)\n",
    "\n",
    "df = df.drop(labels = [\"default\", \"contact\", \"day\", \"month\", \"pdays\", \"previous\", \"loan\", \"poutcome\", \"poutcome\"], axis=1)\n",
    "\n",
    "df.sample(3)"
   ]
  },
  {
   "cell_type": "markdown",
   "id": "beec0efd-ff8f-43a0-a911-e6456e51696f",
   "metadata": {},
   "source": [
    "# Check data"
   ]
  },
  {
   "cell_type": "code",
   "execution_count": null,
   "id": "dacc5915-fac5-43bb-88eb-370e84c9ee70",
   "metadata": {},
   "outputs": [],
   "source": [
    "print(\"Shape\")\n",
    "print(df.shape)\n",
    "\n",
    "print(\"\\nTypes\")\n",
    "print(df.dtypes)"
   ]
  },
  {
   "cell_type": "markdown",
   "id": "83d3465b-2375-4418-a085-5f4fae43639f",
   "metadata": {},
   "source": [
    "### Check missings"
   ]
  },
  {
   "cell_type": "code",
   "execution_count": null,
   "id": "584f17bb-0fde-4489-8ccf-fdd899ab4fdd",
   "metadata": {},
   "outputs": [],
   "source": [
    "pd.DataFrame(df.isnull().sum()).T"
   ]
  },
  {
   "cell_type": "code",
   "execution_count": null,
   "id": "97fd7430-4459-4487-bbff-0a85d09c9f4b",
   "metadata": {},
   "outputs": [],
   "source": [
    "msno.matrix(df)\n",
    "plt.show()"
   ]
  },
  {
   "cell_type": "code",
   "execution_count": null,
   "id": "3707e234-ed71-40eb-acbe-66cbfc041515",
   "metadata": {},
   "outputs": [],
   "source": [
    "cat_cols = [\"job\", \"marital\", \"education\", \"housing\"]\n",
    "num_cols = [\"age\", \"balance\", \"duration\", \"campaign\"]"
   ]
  },
  {
   "cell_type": "code",
   "execution_count": null,
   "id": "46046b39-f65f-41c6-9c6d-d539dc946227",
   "metadata": {},
   "outputs": [],
   "source": [
    "df.describe()"
   ]
  },
  {
   "cell_type": "code",
   "execution_count": null,
   "id": "db0cb5ed-6e92-46d2-a728-5fe1f90310ce",
   "metadata": {},
   "outputs": [],
   "source": [
    "sns.set(style=\"whitegrid\")\n",
    "g = sns.countplot(data=df, x=\"job\", hue=\"deposit\")\n",
    "g.set_xticklabels(g.get_xticklabels(), rotation=90);"
   ]
  },
  {
   "cell_type": "code",
   "execution_count": null,
   "id": "0cc1c161-6393-47b0-87aa-80bf29a9028d",
   "metadata": {},
   "outputs": [],
   "source": [
    "sns.set(style=\"whitegrid\")\n",
    "g = sns.countplot(data=df, x=\"education\", hue=\"deposit\")\n",
    "g.set_xticklabels(g.get_xticklabels(), rotation=90);"
   ]
  },
  {
   "cell_type": "code",
   "execution_count": null,
   "id": "a4e836c0-3c39-465f-b3cb-2a173da845ad",
   "metadata": {},
   "outputs": [],
   "source": [
    "sns.set(style=\"whitegrid\")\n",
    "g = sns.countplot(data=df, x=\"housing\", hue=\"deposit\")\n",
    "g.set_xticklabels(g.get_xticklabels(), rotation=90);"
   ]
  },
  {
   "cell_type": "code",
   "execution_count": null,
   "id": "09e76abb-1165-42a5-b2b6-dacd976c359c",
   "metadata": {},
   "outputs": [],
   "source": [
    "sns.set(style=\"whitegrid\")\n",
    "g = sns.countplot(data=df, x=\"marital\", hue=\"deposit\")\n",
    "g.set_xticklabels(g.get_xticklabels(), rotation=90);"
   ]
  },
  {
   "cell_type": "code",
   "execution_count": null,
   "id": "9cd20b04-677f-4c08-91bd-6fc47f508333",
   "metadata": {},
   "outputs": [],
   "source": [
    "sns.pairplot(df)"
   ]
  },
  {
   "cell_type": "code",
   "execution_count": null,
   "id": "faadef77-8020-491e-8424-39fac564b5b5",
   "metadata": {},
   "outputs": [],
   "source": [
    "def correlation_matrix(df, cols):\n",
    "     fig = plt.gcf()\n",
    "     fig.set_size_inches(8, 6)\n",
    "     plt.xticks(fontsize=10)\n",
    "     plt.yticks(fontsize=10)\n",
    "     fig = sns.heatmap(df[cols].corr(), annot=True, linewidths=0.5, annot_kws={\"size\": 12}, linecolor=\"w\", cmap=\"RdBu\")\n",
    "     plt.show(block=True)\n",
    "\n",
    "correlation_matrix(df, num_cols)"
   ]
  },
  {
   "cell_type": "code",
   "execution_count": null,
   "id": "01589888-586b-478c-adfe-fba1bc5604ef",
   "metadata": {},
   "outputs": [],
   "source": []
  },
  {
   "cell_type": "markdown",
   "id": "d925e984-a143-42cc-affe-7e3d731e9ec5",
   "metadata": {},
   "source": [
    "## Model"
   ]
  },
  {
   "cell_type": "markdown",
   "id": "dad3813e-0297-40ec-af67-adbe78791502",
   "metadata": {},
   "source": [
    "split data into features and target "
   ]
  },
  {
   "cell_type": "code",
   "execution_count": null,
   "id": "2ec51254-7de1-4c1d-81ca-ff8d13c74968",
   "metadata": {},
   "outputs": [],
   "source": [
    "X = df.drop(\"deposit\", axis=1)\n",
    "y = df[\"deposit\"]"
   ]
  },
  {
   "cell_type": "markdown",
   "id": "81658480-0253-442c-bb69-8eb5d3f7bfc3",
   "metadata": {},
   "source": [
    "and make train test split"
   ]
  },
  {
   "cell_type": "code",
   "execution_count": null,
   "id": "6c25ad52-444b-49a4-a910-b77f4d0c24f8",
   "metadata": {},
   "outputs": [],
   "source": [
    "X_train, X_test, y_train, y_test = train_test_split(X, y, test_size=0.3, random_state=1912)"
   ]
  },
  {
   "cell_type": "code",
   "execution_count": null,
   "id": "c2d4d439-803e-4b81-8fd8-05d8b54762a6",
   "metadata": {},
   "outputs": [],
   "source": [
    "one_hot_enc = make_column_transformer(\n",
    "    (OneHotEncoder(handle_unknown=\"ignore\", drop=\"first\"),\n",
    "    cat_cols),\n",
    "    remainder=\"passthrough\")\n",
    "\n",
    "X_train = one_hot_enc.fit_transform(X_train)\n",
    "X_train = pd.DataFrame(X_train, columns=one_hot_enc.get_feature_names_out())\n",
    "\n",
    "X_train.head(2)"
   ]
  },
  {
   "cell_type": "code",
   "execution_count": null,
   "id": "04f7222d-e0b2-4a8a-90e6-a19709035870",
   "metadata": {},
   "outputs": [],
   "source": [
    "X_test = pd.DataFrame(one_hot_enc.transform(X_test), columns=one_hot_enc.get_feature_names_out())\n",
    "X_test.head(2)"
   ]
  },
  {
   "cell_type": "code",
   "execution_count": null,
   "id": "26dd0552-7d22-4f9a-9c18-36911685e6aa",
   "metadata": {},
   "outputs": [],
   "source": [
    "model = LGBMClassifier()\n",
    "model.fit(X_train, y_train)"
   ]
  },
  {
   "cell_type": "markdown",
   "id": "e71a4624-52ed-4aca-a3ee-eaca5921b8e1",
   "metadata": {},
   "source": [
    "## Evaluation"
   ]
  },
  {
   "cell_type": "code",
   "execution_count": null,
   "id": "ded12de1-41f7-4164-9d00-20566971621c",
   "metadata": {},
   "outputs": [],
   "source": [
    "y_pred = model.predict(X_test)\n",
    "\n",
    "tn, fp, fn, tp = confusion_matrix(y_test, y_pred).ravel()\n",
    "specificity = tn / (tn+fp)\n",
    "cm = confusion_matrix(y_test, y_pred)\n",
    "sns.heatmap(cm, annot=True, fmt=\"g\");\n",
    "\n",
    "print(f\"Specificity: {specificity}\")\n",
    "print(\"Confusion Matrix:\")"
   ]
  },
  {
   "cell_type": "code",
   "execution_count": null,
   "id": "f7f0bd68-cd18-41e1-a685-da11159867da",
   "metadata": {},
   "outputs": [],
   "source": [
    "print(classification_report(y_test, y_pred))"
   ]
  },
  {
   "cell_type": "markdown",
   "id": "e11fd3e2-de2b-4ba9-8de3-a912c5942736",
   "metadata": {},
   "source": [
    "## Save model"
   ]
  },
  {
   "cell_type": "code",
   "execution_count": null,
   "id": "398e2a66-e427-4a77-9494-ae36dee97bfc",
   "metadata": {},
   "outputs": [],
   "source": [
    "# Specify the file path where you want to save the pickle file\n",
    "file_path = \"model.pkl\"\n",
    "\n",
    "# Save the model as a pickle file\n",
    "with open(file_path, \"wb\") as f:\n",
    "    pickle.dump(model, f)\n",
    "\n",
    "file_path = \"ohe.pkl\"\n",
    "\n",
    "# Save the OneHotEncoder as a pickle file\n",
    "with open(file_path, \"wb\") as f:\n",
    "    pickle.dump(one_hot_enc, f)"
   ]
  },
  {
   "cell_type": "markdown",
   "id": "1219fba9-fcee-4e99-99cb-a0ab17af19bc",
   "metadata": {},
   "source": [
    "# References\n",
    "\n",
    "- https://www.kaggle.com/datasets/janiobachmann/bank-marketing-dataset\n",
    "- https://www.kaggle.com/code/enesztrk/bank-credit-analysis-classification"
   ]
  }
 ],
 "metadata": {
  "kernelspec": {
   "display_name": "Python 3 (ipykernel)",
   "language": "python",
   "name": "python3"
  },
  "language_info": {
   "codemirror_mode": {
    "name": "ipython",
    "version": 3
   },
   "file_extension": ".py",
   "mimetype": "text/x-python",
   "name": "python",
   "nbconvert_exporter": "python",
   "pygments_lexer": "ipython3",
   "version": "3.10.12"
  }
 },
 "nbformat": 4,
 "nbformat_minor": 5
}
